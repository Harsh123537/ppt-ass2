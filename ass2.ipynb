{
 "cells": [
  {
   "cell_type": "code",
   "execution_count": 2,
   "id": "728d92cc-5060-4260-847d-451dac1cc961",
   "metadata": {},
   "outputs": [],
   "source": [
    "#Q.1\n",
    "\n",
    "def arrayPairSum(nums):\n",
    "        nums.sort()\n",
    "        s=0\n",
    "        j=0\n",
    "        for i in range(len(nums)//2):\n",
    "            s=s+min(nums[j],nums[j+1])\n",
    "            j=j+2\n",
    "        return s"
   ]
  },
  {
   "cell_type": "code",
   "execution_count": 3,
   "id": "e8fa7f67-d86b-410c-804b-049df18ab2e4",
   "metadata": {},
   "outputs": [],
   "source": [
    "#Q.2\n",
    "\n",
    "def maxCandies(candyType):\n",
    "    unique_candies = set()\n",
    "    for candy in candyType:  \n",
    "        unique_candies.add(candy) \n",
    "    max_types = len(candyType) // 2 \n",
    "    return min(max_types, len(unique_candies))  \n"
   ]
  },
  {
   "cell_type": "code",
   "execution_count": 4,
   "id": "b395486c-cc99-4444-91e4-ae08042e9b30",
   "metadata": {},
   "outputs": [],
   "source": [
    "# Q.3\n",
    "\n",
    "from collections import defaultdict\n",
    "\n",
    "def findLHS(nums):\n",
    "    count_map = defaultdict(int)\n",
    "    for num in nums: \n",
    "        count_map[num] += 1\n",
    "    max_length = 0 \n",
    "    for num in count_map: \n",
    "        if num + 1 in count_map:  \n",
    "            length = count_map[num] + count_map[num + 1]\n",
    "            max_length = max(max_length, length)\n",
    "\n",
    "    return max_length \n"
   ]
  },
  {
   "cell_type": "code",
   "execution_count": 6,
   "id": "ec340567-b577-4004-8a2f-6326686336de",
   "metadata": {},
   "outputs": [],
   "source": [
    "# Q.4 \n",
    "\n",
    "def canPlaceFlowers(flowerbed, n):\n",
    "    count = 0\n",
    "\n",
    "    for i in range(len(flowerbed)):\n",
    "        if flowerbed[i] == 0 and (i == 0 or flowerbed[i - 1] == 0) and (i == len(flowerbed) - 1 or flowerbed[i + 1] == 0):\n",
    "            flowerbed[i] = 1\n",
    "            count += 1\n",
    "\n",
    "    return count >= n\n"
   ]
  },
  {
   "cell_type": "code",
   "execution_count": 5,
   "id": "a4ead8f4-bdf5-4171-87d2-dbd225b6557b",
   "metadata": {},
   "outputs": [],
   "source": [
    "# Q.5\n",
    "\n",
    "def maximumProduct(nums):\n",
    "    nums.sort()\n",
    "    product1 = nums[-1] * nums[-2] * nums[-3]\n",
    "    product2 = nums[0] * nums[1] * nums[-1]\n",
    "    return max(product1, product2)\n"
   ]
  },
  {
   "cell_type": "code",
   "execution_count": 7,
   "id": "f0954e77-4c89-4a9b-b345-ed480370ad2c",
   "metadata": {},
   "outputs": [],
   "source": [
    "# Q.6\n",
    "\n",
    "def search(nums, target):\n",
    "    left, right = 0, len(nums) - 1\n",
    "\n",
    "    while left <= right:\n",
    "        mid = (left + right) // 2\n",
    "\n",
    "        if nums[mid] == target:\n",
    "            return mid\n",
    "        elif nums[mid] > target:\n",
    "            right = mid - 1\n",
    "        else:\n",
    "            left = mid + 1\n",
    "\n",
    "    return -1\n",
    "\n",
    "\n",
    "\n",
    "\n"
   ]
  },
  {
   "cell_type": "code",
   "execution_count": 8,
   "id": "1ea7f7bb-228d-47bf-a7d5-f54df0231f18",
   "metadata": {},
   "outputs": [],
   "source": [
    "# Q.7\n",
    "\n",
    "def isMonotonic(nums):\n",
    "    isIncreasing = True\n",
    "    isDecreasing = True\n",
    "\n",
    "    for i in range(1, len(nums)):\n",
    "        if nums[i] < nums[i - 1]:\n",
    "            isIncreasing = False\n",
    "        if nums[i] > nums[i - 1]:\n",
    "            isDecreasing = False\n",
    "\n",
    "    return isIncreasing or isDecreasing\n"
   ]
  },
  {
   "cell_type": "code",
   "execution_count": 9,
   "id": "7ddf0cb5-4b3d-4490-8380-b0970880e087",
   "metadata": {},
   "outputs": [],
   "source": [
    "# Q.8 \n",
    "\n",
    "def minimumScore(nums, k):\n",
    "    min_score = float('inf')\n",
    "\n",
    "    for x in range(-k, k+1):\n",
    "        new_max = float('-inf')\n",
    "        new_min = float('inf')\n",
    "\n",
    "        for num in nums:\n",
    "            new_num = num + x\n",
    "            new_max = max(new_max, new_num)\n",
    "            new_min = min(new_min, new_num)\n",
    "\n",
    "        min_score = min(min_score, new_max - new_min)\n",
    "\n",
    "    return min_score\n"
   ]
  },
  {
   "cell_type": "code",
   "execution_count": null,
   "id": "01845ea5-f5de-4f8f-a170-0618012f6a1a",
   "metadata": {},
   "outputs": [],
   "source": []
  }
 ],
 "metadata": {
  "kernelspec": {
   "display_name": "Python 3 (ipykernel)",
   "language": "python",
   "name": "python3"
  },
  "language_info": {
   "codemirror_mode": {
    "name": "ipython",
    "version": 3
   },
   "file_extension": ".py",
   "mimetype": "text/x-python",
   "name": "python",
   "nbconvert_exporter": "python",
   "pygments_lexer": "ipython3",
   "version": "3.10.8"
  }
 },
 "nbformat": 4,
 "nbformat_minor": 5
}
